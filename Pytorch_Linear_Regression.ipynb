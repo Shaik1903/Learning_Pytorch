{
  "nbformat": 4,
  "nbformat_minor": 0,
  "metadata": {
    "colab": {
      "provenance": [],
      "authorship_tag": "ABX9TyNOPF+18B2heBt5kx1gdE5c",
      "include_colab_link": true
    },
    "kernelspec": {
      "name": "python3",
      "display_name": "Python 3"
    },
    "language_info": {
      "name": "python"
    }
  },
  "cells": [
    {
      "cell_type": "markdown",
      "metadata": {
        "id": "view-in-github",
        "colab_type": "text"
      },
      "source": [
        "<a href=\"https://colab.research.google.com/github/Shaik1903/Learning_Pytorch/blob/main/Pytorch_Linear_Regression.ipynb\" target=\"_parent\"><img src=\"https://colab.research.google.com/assets/colab-badge.svg\" alt=\"Open In Colab\"/></a>"
      ]
    },
    {
      "cell_type": "code",
      "execution_count": null,
      "metadata": {
        "id": "cwJVlNGQGPHd"
      },
      "outputs": [],
      "source": [
        "import torch\n",
        "from torch import nn\n",
        "import matplotlib.pyplot as plt"
      ]
    },
    {
      "cell_type": "code",
      "source": [
        "import numpy as np\n",
        "from sklearn.preprocessing import StandardScaler\n",
        "\n",
        "# Create a simple dataset\n",
        "data = np.array([[1.0, 2.0, 3.0],\n",
        "                 [4.0, 5.0, 6.0],\n",
        "                 [7.0, 8.0, 9.0]])\n",
        "\n",
        "# Initialize the StandardScaler\n",
        "scaler = StandardScaler()\n",
        "\n",
        "# Step 1: Fit the scaler on the training data to calculate mean and standard deviation\n",
        "scaler.fit(data)\n",
        "\n",
        "# Display mean and standard deviation calculated from fitting\n",
        "print(\"Mean:\", scaler.mean_)\n",
        "print(\"Standard Deviation:\", scaler.scale_)\n",
        "# Step 2: Transform the data using the calculated parameters\n",
        "transformed_data = scaler.transform(data)\n",
        "\n",
        "# Display the transformed data\n",
        "print(\"Transformed Data:\")\n",
        "print(transformed_data)\n",
        "\n",
        "# Alternatively, we can combine fit and transform using fit_transform\n",
        "transformed_data_combined = scaler.fit_transform(data)\n",
        "\n",
        "# Display the transformed data using fit_transform\n",
        "print(\"Transformed Data using fit_transform:\")\n",
        "print(transformed_data_combined)\n"
      ],
      "metadata": {
        "colab": {
          "base_uri": "https://localhost:8080/"
        },
        "id": "hSh8MiblWrKk",
        "outputId": "4634e084-1369-400d-d100-4f840dd4c34c"
      },
      "execution_count": null,
      "outputs": [
        {
          "output_type": "stream",
          "name": "stdout",
          "text": [
            "Mean: [4. 5. 6.]\n",
            "Standard Deviation: [2.44948974 2.44948974 2.44948974]\n",
            "Transformed Data:\n",
            "[[-1.22474487 -1.22474487 -1.22474487]\n",
            " [ 0.          0.          0.        ]\n",
            " [ 1.22474487  1.22474487  1.22474487]]\n",
            "Transformed Data using fit_transform:\n",
            "[[-1.22474487 -1.22474487 -1.22474487]\n",
            " [ 0.          0.          0.        ]\n",
            " [ 1.22474487  1.22474487  1.22474487]]\n"
          ]
        }
      ]
    },
    {
      "cell_type": "code",
      "source": [
        "torch.__version__"
      ],
      "metadata": {
        "colab": {
          "base_uri": "https://localhost:8080/",
          "height": 36
        },
        "id": "uZsVggeZISca",
        "outputId": "92d2a1da-4e25-4281-8863-2fa4b626a981"
      },
      "execution_count": null,
      "outputs": [
        {
          "output_type": "execute_result",
          "data": {
            "text/plain": [
              "'2.0.1+cu118'"
            ],
            "application/vnd.google.colaboratory.intrinsic+json": {
              "type": "string"
            }
          },
          "metadata": {},
          "execution_count": 3
        }
      ]
    },
    {
      "cell_type": "code",
      "source": [
        "X = torch.arange(0,1,0.02).unsqueeze(dim = 1)\n",
        "weights = 0.7\n",
        "biass = .3\n",
        "y = weights*X + biass\n",
        "X[:10], y[:10]"
      ],
      "metadata": {
        "colab": {
          "base_uri": "https://localhost:8080/"
        },
        "id": "ei-o84d7Ic4X",
        "outputId": "b1efc8ea-0250-4b4d-add9-615bbb28c608"
      },
      "execution_count": null,
      "outputs": [
        {
          "output_type": "execute_result",
          "data": {
            "text/plain": [
              "(tensor([[0.0000],\n",
              "         [0.0200],\n",
              "         [0.0400],\n",
              "         [0.0600],\n",
              "         [0.0800],\n",
              "         [0.1000],\n",
              "         [0.1200],\n",
              "         [0.1400],\n",
              "         [0.1600],\n",
              "         [0.1800]]),\n",
              " tensor([[0.3000],\n",
              "         [0.3140],\n",
              "         [0.3280],\n",
              "         [0.3420],\n",
              "         [0.3560],\n",
              "         [0.3700],\n",
              "         [0.3840],\n",
              "         [0.3980],\n",
              "         [0.4120],\n",
              "         [0.4260]]))"
            ]
          },
          "metadata": {},
          "execution_count": 3
        }
      ]
    },
    {
      "cell_type": "code",
      "source": [
        "len(X)"
      ],
      "metadata": {
        "colab": {
          "base_uri": "https://localhost:8080/"
        },
        "id": "i2vRhEO6KPe8",
        "outputId": "9438da3f-a1b7-441b-de38-168e4622de52"
      },
      "execution_count": null,
      "outputs": [
        {
          "output_type": "execute_result",
          "data": {
            "text/plain": [
              "50"
            ]
          },
          "metadata": {},
          "execution_count": 4
        }
      ]
    },
    {
      "cell_type": "code",
      "source": [
        "x_train,y_train,x_test,y_test = X[:40],y[:40],X[40:],y[40:]\n",
        "x_test"
      ],
      "metadata": {
        "id": "5SFlNALJKSj3",
        "colab": {
          "base_uri": "https://localhost:8080/"
        },
        "outputId": "574dd537-77ba-457e-b090-c6c94ff4b9b1"
      },
      "execution_count": null,
      "outputs": [
        {
          "output_type": "execute_result",
          "data": {
            "text/plain": [
              "tensor([[0.8000],\n",
              "        [0.8200],\n",
              "        [0.8400],\n",
              "        [0.8600],\n",
              "        [0.8800],\n",
              "        [0.9000],\n",
              "        [0.9200],\n",
              "        [0.9400],\n",
              "        [0.9600],\n",
              "        [0.9800]])"
            ]
          },
          "metadata": {},
          "execution_count": 5
        }
      ]
    },
    {
      "cell_type": "code",
      "source": [
        "def visual(xtrain = x_train,ytrain = y_train , xtest = x_test,ytest = y_test,pred = None):\n",
        "  plt.figure(figsize = (8,4))\n",
        "  plt.scatter(xtrain,ytrain,c='b',label = 'train')\n",
        "  plt.scatter(xtest,ytest,c='r',label = 'test')\n",
        "  if pred != None:\n",
        "    plt.scatter(xtest,pred,c='g',label = 'pred')\n"
      ],
      "metadata": {
        "id": "E83CLOBxYuTu"
      },
      "execution_count": null,
      "outputs": []
    },
    {
      "cell_type": "code",
      "source": [
        "visual()"
      ],
      "metadata": {
        "colab": {
          "base_uri": "https://localhost:8080/",
          "height": 368
        },
        "id": "krFKd82hb2pS",
        "outputId": "3b6f3487-a12a-459a-9aa8-51098c39282a"
      },
      "execution_count": null,
      "outputs": [
        {
          "output_type": "display_data",
          "data": {
            "text/plain": [
              "<Figure size 800x400 with 1 Axes>"
            ],
            "image/png": "[encoded data removed]"
          },
          "metadata": {}
        }
      ]
    },
    {
      "cell_type": "code",
      "source": [
        "!nvidia-smi"
      ],
      "metadata": {
        "colab": {
          "base_uri": "https://localhost:8080/"
        },
        "id": "-jxDB-FFb_Fb",
        "outputId": "20ed4930-d533-4947-9757-ad59ae9fe300"
      },
      "execution_count": null,
      "outputs": [
        {
          "output_type": "stream",
          "name": "stdout",
          "text": [
            "/bin/bash: line 1: nvidia-smi: command not found\n"
          ]
        }
      ]
    },
    {
      "cell_type": "code",
      "source": [
        "class LinR(nn.Module):\n",
        "  def __init__(self):\n",
        "    super().__init__()\n",
        "    self.weight = nn.Parameter(torch.randn(1))\n",
        "    self.bias  = nn.Parameter(torch.randn(1))\n",
        "  def forward(self, x:torch.tensor) -> torch.tensor:\n",
        "    return self.weight*x + self.bias"
      ],
      "metadata": {
        "id": "Zx2m17Gtde27"
      },
      "execution_count": null,
      "outputs": []
    },
    {
      "cell_type": "code",
      "source": [
        "# predictions with inference mode\n",
        "torch.manual_seed(42)\n",
        "model = LinR()\n",
        "with torch.inference_mode():         # samw with torch.no_grad()\n",
        "  y_pred = model(x_test)\n",
        "y_pred"
      ],
      "metadata": {
        "colab": {
          "base_uri": "https://localhost:8080/"
        },
        "id": "LBsMx4d_tzON",
        "outputId": "d8260704-8f00-41e0-fbf0-f3ef4949494d"
      },
      "execution_count": null,
      "outputs": [
        {
          "output_type": "execute_result",
          "data": {
            "text/plain": [
              "tensor([[0.3982],\n",
              "        [0.4049],\n",
              "        [0.4116],\n",
              "        [0.4184],\n",
              "        [0.4251],\n",
              "        [0.4318],\n",
              "        [0.4386],\n",
              "        [0.4453],\n",
              "        [0.4520],\n",
              "        [0.4588]])"
            ]
          },
          "metadata": {},
          "execution_count": 10
        }
      ]
    },
    {
      "cell_type": "code",
      "source": [
        "visual(pred = y_pred)"
      ],
      "metadata": {
        "colab": {
          "base_uri": "https://localhost:8080/",
          "height": 368
        },
        "id": "mYAPH9VY0i4J",
        "outputId": "581c41b6-5e73-453b-dac5-1006ab503fbf"
      },
      "execution_count": null,
      "outputs": [
        {
          "output_type": "display_data",
          "data": {
            "text/plain": [
              "<Figure size 800x400 with 1 Axes>"
            ],
            "image/png": "[encoded data removed]"
          },
          "metadata": {}
        }
      ]
    },
    {
      "cell_type": "code",
      "source": [
        "loss = nn.L1Loss()"
      ],
      "metadata": {
        "id": "nfF628-S0-44"
      },
      "execution_count": null,
      "outputs": []
    },
    {
      "cell_type": "code",
      "source": [
        "optimizer = torch.optim.SGD(params = model.parameters(),lr = 0.01)"
      ],
      "metadata": {
        "id": "Hw03ge4G3Vib"
      },
      "execution_count": null,
      "outputs": []
    },
    {
      "cell_type": "code",
      "source": [
        "epochs = 200"
      ],
      "metadata": {
        "id": "smSl_YVu34Jo"
      },
      "execution_count": null,
      "outputs": []
    },
    {
      "cell_type": "code",
      "source": [
        "weights,biass"
      ],
      "metadata": {
        "colab": {
          "base_uri": "https://localhost:8080/"
        },
        "id": "UrOlrHg0M3pL",
        "outputId": "36bc4e8a-4ceb-480e-9912-f0271b539211"
      },
      "execution_count": null,
      "outputs": [
        {
          "output_type": "execute_result",
          "data": {
            "text/plain": [
              "(0.7, 0.3)"
            ]
          },
          "metadata": {},
          "execution_count": 15
        }
      ]
    },
    {
      "cell_type": "code",
      "source": [
        "ep = []\n",
        "test_loss = []\n",
        "train_loss = []"
      ],
      "metadata": {
        "id": "-2U4bez1iZHS"
      },
      "execution_count": null,
      "outputs": []
    },
    {
      "cell_type": "code",
      "source": [
        "for epoch in range(epochs):\n",
        "  # forward propagation\n",
        "  model.train()\n",
        "  pred = model(x_train)\n",
        "\n",
        "  # calculate the loss\n",
        "  lass = loss(pred,y_train)\n",
        "  print(f\"loss = {lass}\")\n",
        "\n",
        "  # optimizer zero grad\n",
        "  optimizer.zero_grad()\n",
        "\n",
        "  # perform back propagation on the loss with respect to the parameters\n",
        "  lass.backward()\n",
        "\n",
        "  # step the optimizer\n",
        "  optimizer.step()\n",
        "  model.eval()\n",
        "  with torch.inference_mode():\n",
        "    test = model(x_test)\n",
        "    las = loss(test,y_test)\n",
        "    ep.append(epoch)\n",
        "    train_loss.append(lass)\n",
        "    test_loss.append(las)\n",
        "  if epoch%10 == 0:\n",
        "    print(f\"epoch: {epoch}  train loss: {lass}  test loss: {las}\")\n",
        "    model.state_dict()"
      ],
      "metadata": {
        "id": "JGdOD2et4FTI",
        "colab": {
          "base_uri": "https://localhost:8080/"
        },
        "outputId": "fcfd181e-e0be-44ff-fbdb-a4a5e302ada4"
      },
      "execution_count": null,
      "outputs": [
        {
          "output_type": "stream",
          "name": "stdout",
          "text": [
            "loss = 0.31288138031959534\n",
            "epoch: 0  train loss: 0.31288138031959534  test loss: 0.48106518387794495\n",
            "loss = 0.3013603389263153\n",
            "loss = 0.28983935713768005\n",
            "loss = 0.2783183455467224\n",
            "loss = 0.26679736375808716\n",
            "loss = 0.2552763521671295\n",
            "loss = 0.24375534057617188\n",
            "loss = 0.23223432898521423\n",
            "loss = 0.22071333229541779\n",
            "loss = 0.20919232070446014\n",
            "loss = 0.1976713240146637\n",
            "epoch: 10  train loss: 0.1976713240146637  test loss: 0.3463551998138428\n",
            "loss = 0.18615034222602844\n",
            "loss = 0.1746293306350708\n",
            "loss = 0.16310831904411316\n",
            "loss = 0.1515873372554779\n",
            "loss = 0.14006635546684265\n",
            "loss = 0.1285453587770462\n",
            "loss = 0.11702437698841095\n",
            "loss = 0.1060912236571312\n",
            "loss = 0.09681284427642822\n",
            "loss = 0.08908725529909134\n",
            "epoch: 20  train loss: 0.08908725529909134  test loss: 0.21729660034179688\n",
            "loss = 0.08227583020925522\n",
            "loss = 0.07638873159885406\n",
            "loss = 0.07160007208585739\n",
            "loss = 0.06747635453939438\n",
            "loss = 0.06395438313484192\n",
            "loss = 0.06097004935145378\n",
            "loss = 0.05845819041132927\n",
            "loss = 0.05635259300470352\n",
            "loss = 0.0545857772231102\n",
            "loss = 0.053148526698350906\n",
            "epoch: 30  train loss: 0.053148526698350906  test loss: 0.14464017748832703\n",
            "loss = 0.05181945487856865\n",
            "loss = 0.05069301277399063\n",
            "loss = 0.0498228520154953\n",
            "loss = 0.04895269125699997\n",
            "loss = 0.04819351062178612\n",
            "loss = 0.047531817108392715\n",
            "loss = 0.04692792519927025\n",
            "loss = 0.04642331600189209\n",
            "loss = 0.04591871052980423\n",
            "loss = 0.04543796554207802\n",
            "epoch: 40  train loss: 0.04543796554207802  test loss: 0.11360953003168106\n",
            "loss = 0.04503796249628067\n",
            "loss = 0.04463795945048332\n",
            "loss = 0.04423796385526657\n",
            "loss = 0.04383796453475952\n",
            "loss = 0.04343796148896217\n",
            "loss = 0.043074630200862885\n",
            "loss = 0.04272563382983208\n",
            "loss = 0.04237663000822067\n",
            "loss = 0.04202762991189957\n",
            "loss = 0.04167863354086876\n",
            "epoch: 50  train loss: 0.04167863354086876  test loss: 0.09919948130846024\n",
            "loss = 0.04132963344454765\n",
            "loss = 0.04098063334822655\n",
            "loss = 0.04063162952661514\n",
            "loss = 0.040282636880874634\n",
            "loss = 0.039933640509843826\n",
            "loss = 0.03958464413881302\n",
            "loss = 0.03923564404249191\n",
            "loss = 0.03888664394617081\n",
            "loss = 0.0385376438498497\n",
            "loss = 0.03818932920694351\n",
            "epoch: 60  train loss: 0.03818932920694351  test loss: 0.08886633068323135\n",
            "loss = 0.03785243630409241\n",
            "loss = 0.0375034399330616\n",
            "loss = 0.037164121866226196\n",
            "loss = 0.03681822493672371\n",
            "loss = 0.03647511452436447\n",
            "loss = 0.03613303601741791\n",
            "loss = 0.03578609973192215\n",
            "loss = 0.03544783592224121\n",
            "loss = 0.035098835825920105\n",
            "loss = 0.03476089984178543\n",
            "epoch: 70  train loss: 0.03476089984178543  test loss: 0.0805937647819519\n",
            "loss = 0.03441363573074341\n",
            "loss = 0.03407188132405281\n",
            "loss = 0.03372843936085701\n",
            "loss = 0.03338287025690079\n",
            "loss = 0.033043231815099716\n",
            "loss = 0.03269423171877861\n",
            "loss = 0.032357655465602875\n",
            "loss = 0.03200903534889221\n",
            "loss = 0.03166864812374115\n",
            "loss = 0.03132382780313492\n",
            "epoch: 80  train loss: 0.03132382780313492  test loss: 0.07232122868299484\n",
            "loss = 0.030979642644524574\n",
            "loss = 0.030638623982667923\n",
            "loss = 0.0302906334400177\n",
            "loss = 0.029953425750136375\n",
            "loss = 0.02960442565381527\n",
            "loss = 0.029265418648719788\n",
            "loss = 0.028919223695993423\n",
            "loss = 0.028576409444212914\n",
            "loss = 0.028234025463461876\n",
            "loss = 0.02788739837706089\n",
            "epoch: 90  train loss: 0.02788739837706089  test loss: 0.06473556160926819\n",
            "loss = 0.02754882536828518\n",
            "loss = 0.027199819684028625\n",
            "loss = 0.026862185448408127\n",
            "loss = 0.02651461586356163\n",
            "loss = 0.026173178106546402\n",
            "loss = 0.025829419493675232\n",
            "loss = 0.02548416517674923\n",
            "loss = 0.025144213810563087\n",
            "loss = 0.02479521557688713\n",
            "loss = 0.024458957836031914\n",
            "epoch: 100  train loss: 0.024458957836031914  test loss: 0.05646304413676262\n",
            "loss = 0.024110013619065285\n",
            "loss = 0.02376994863152504\n",
            "loss = 0.02342480979859829\n",
            "loss = 0.023080935701727867\n",
            "loss = 0.022739607840776443\n",
            "loss = 0.022391926497220993\n",
            "loss = 0.022054409608244896\n",
            "loss = 0.02170540764927864\n",
            "loss = 0.021366719156503677\n",
            "loss = 0.021020207554101944\n",
            "epoch: 110  train loss: 0.021020207554101944  test loss: 0.04819049686193466\n",
            "loss = 0.020677709951996803\n",
            "loss = 0.02033500373363495\n",
            "loss = 0.01998869702219963\n",
            "loss = 0.019649803638458252\n",
            "loss = 0.019300809130072594\n",
            "loss = 0.018963487818837166\n",
            "loss = 0.01861560344696045\n",
            "loss = 0.018274478614330292\n",
            "loss = 0.017930403351783752\n",
            "loss = 0.01758546568453312\n",
            "epoch: 120  train loss: 0.01758546568453312  test loss: 0.04060482233762741\n",
            "loss = 0.017245199531316757\n",
            "loss = 0.016896454617381096\n",
            "loss = 0.01656000316143036\n",
            "loss = 0.016210997477173805\n",
            "loss = 0.01587124727666378\n",
            "loss = 0.015525798313319683\n",
            "loss = 0.015182236209511757\n",
            "loss = 0.014840595424175262\n",
            "loss = 0.01449323259294033\n",
            "loss = 0.014155393466353416\n",
            "epoch: 130  train loss: 0.014155393466353416  test loss: 0.03233227878808975\n",
            "loss = 0.013806397095322609\n",
            "loss = 0.013468016870319843\n",
            "loss = 0.013121193274855614\n",
            "loss = 0.01277900766581297\n",
            "loss = 0.012435992248356342\n",
            "loss = 0.01208999752998352\n",
            "loss = 0.011750795878469944\n",
            "loss = 0.011401787400245667\n",
            "loss = 0.011064787395298481\n",
            "loss = 0.010716589167714119\n",
            "epoch: 140  train loss: 0.010716589167714119  test loss: 0.024059748277068138\n",
            "loss = 0.010375778190791607\n",
            "loss = 0.010031387209892273\n",
            "loss = 0.009686763398349285\n",
            "loss = 0.009346187114715576\n",
            "loss = 0.008997755125164986\n",
            "loss = 0.008660981431603432\n",
            "loss = 0.008311985060572624\n",
            "loss = 0.007972544990479946\n",
            "loss = 0.007626785431057215\n",
            "loss = 0.0072835334576666355\n",
            "epoch: 150  train loss: 0.0072835334576666355  test loss: 0.016474086791276932\n",
            "loss = 0.006941580679267645\n",
            "loss = 0.006594526115804911\n",
            "loss = 0.006256377790123224\n",
            "loss = 0.005907376762479544\n",
            "loss = 0.005569315515458584\n",
            "loss = 0.005222178064286709\n",
            "loss = 0.004880306776612997\n",
            "loss = 0.004536976106464863\n",
            "loss = 0.00419129803776741\n",
            "loss = 0.0038517764769494534\n",
            "epoch: 160  train loss: 0.0038517764769494534  test loss: 0.008201557211577892\n",
            "loss = 0.0035027749836444855\n",
            "loss = 0.0031660839449614286\n",
            "loss = 0.002817571861669421\n",
            "loss = 0.0024770735763013363\n",
            "loss = 0.0021323717664927244\n",
            "loss = 0.0017880648374557495\n",
            "loss = 0.0014518328243866563\n",
            "loss = 0.0011887758737429976\n",
            "loss = 0.0025885067880153656\n",
            "loss = 0.008932482451200485\n",
            "epoch: 170  train loss: 0.008932482451200485  test loss: 0.005023092031478882\n",
            "loss = 0.0025885067880153656\n",
            "loss = 0.008932482451200485\n",
            "loss = 0.0025885067880153656\n",
            "loss = 0.008932482451200485\n",
            "loss = 0.0025885067880153656\n",
            "loss = 0.008932482451200485\n",
            "loss = 0.0025885067880153656\n",
            "loss = 0.008932482451200485\n",
            "loss = 0.0025885067880153656\n",
            "loss = 0.008932482451200485\n",
            "epoch: 180  train loss: 0.008932482451200485  test loss: 0.005023092031478882\n",
            "loss = 0.0025885067880153656\n",
            "loss = 0.008932482451200485\n",
            "loss = 0.0025885067880153656\n",
            "loss = 0.008932482451200485\n",
            "loss = 0.0025885067880153656\n",
            "loss = 0.008932482451200485\n",
            "loss = 0.0025885067880153656\n",
            "loss = 0.008932482451200485\n",
            "loss = 0.0025885067880153656\n",
            "loss = 0.008932482451200485\n",
            "epoch: 190  train loss: 0.008932482451200485  test loss: 0.005023092031478882\n",
            "loss = 0.0025885067880153656\n",
            "loss = 0.008932482451200485\n",
            "loss = 0.0025885067880153656\n",
            "loss = 0.008932482451200485\n",
            "loss = 0.0025885067880153656\n",
            "loss = 0.008932482451200485\n",
            "loss = 0.0025885067880153656\n",
            "loss = 0.008932482451200485\n",
            "loss = 0.0025885067880153656\n"
          ]
        }
      ]
    },
    {
      "cell_type": "code",
      "source": [
        "model.state_dict()"
      ],
      "metadata": {
        "colab": {
          "base_uri": "https://localhost:8080/"
        },
        "id": "jL75nHc3NN0B",
        "outputId": "f79248ca-88b0-42f1-f7a5-a19a6f653625"
      },
      "execution_count": null,
      "outputs": [
        {
          "output_type": "execute_result",
          "data": {
            "text/plain": [
              "OrderedDict([('weight', tensor([0.6990])), ('bias', tensor([0.3093]))])"
            ]
          },
          "metadata": {},
          "execution_count": 18
        }
      ]
    },
    {
      "cell_type": "code",
      "source": [
        "model.state_dict()"
      ],
      "metadata": {
        "colab": {
          "base_uri": "https://localhost:8080/"
        },
        "id": "Y-lNfccKNN8_",
        "outputId": "c047f7ea-53e3-4d3e-b098-bd02d65d5895"
      },
      "execution_count": null,
      "outputs": [
        {
          "output_type": "execute_result",
          "data": {
            "text/plain": [
              "OrderedDict([('weight', tensor([0.6990])), ('bias', tensor([0.3093]))])"
            ]
          },
          "metadata": {},
          "execution_count": 19
        }
      ]
    },
    {
      "cell_type": "code",
      "source": [
        "with torch.inference_mode():\n",
        "  y_pred = model(x_test)\n",
        "y_pred"
      ],
      "metadata": {
        "colab": {
          "base_uri": "https://localhost:8080/"
        },
        "id": "XeMCudUWNOAK",
        "outputId": "f5a7299c-5307-435f-8958-5c59fe16829a"
      },
      "execution_count": null,
      "outputs": [
        {
          "output_type": "execute_result",
          "data": {
            "text/plain": [
              "tensor([[0.8685],\n",
              "        [0.8825],\n",
              "        [0.8965],\n",
              "        [0.9105],\n",
              "        [0.9245],\n",
              "        [0.9384],\n",
              "        [0.9524],\n",
              "        [0.9664],\n",
              "        [0.9804],\n",
              "        [0.9944]])"
            ]
          },
          "metadata": {},
          "execution_count": 19
        }
      ]
    },
    {
      "cell_type": "code",
      "source": [
        "visual(pred = y_pred)"
      ],
      "metadata": {
        "colab": {
          "base_uri": "https://localhost:8080/",
          "height": 368
        },
        "id": "lLt1FObXNODJ",
        "outputId": "26e73a21-8652-4818-a282-0149ac5c4842"
      },
      "execution_count": null,
      "outputs": [
        {
          "output_type": "display_data",
          "data": {
            "text/plain": [
              "<Figure size 800x400 with 1 Axes>"
            ],
            "image/png": "[encoded data removed]"
          },
          "metadata": {}
        }
      ]
    },
    {
      "cell_type": "code",
      "source": [
        "# Plot the Testing and training curves\n",
        "import numpy as np"
      ],
      "metadata": {
        "id": "CGSsOSWrNOFw"
      },
      "execution_count": null,
      "outputs": []
    },
    {
      "cell_type": "code",
      "source": [
        "plt.plot(ep, test_loss, label=\"Test Loss\")\n",
        "plt.plot(ep, np.array(torch.tensor(train_loss).numpy()), label=\"Train Loss\")  # Detach the tensor\n",
        "plt.title(\"Loss Curves\")\n",
        "plt.xlabel(\"Epoch\")\n",
        "plt.ylabel(\"Loss\")\n",
        "plt.legend()\n",
        "plt.show()\n"
      ],
      "metadata": {
        "id": "cZ2kssk4q8PZ",
        "colab": {
          "base_uri": "https://localhost:8080/",
          "height": 472
        },
        "outputId": "809e1e75-f799-452b-b179-0e0ec2e525ae"
      },
      "execution_count": null,
      "outputs": [
        {
          "output_type": "display_data",
          "data": {
            "text/plain": [
              "<Figure size 640x480 with 1 Axes>"
            ],
            "image/png": "[encoded data removed]"
          },
          "metadata": {}
        }
      ]
    },
    {
      "cell_type": "code",
      "source": [
        "# Saving a model in Pytorch\n",
        "from  pathlib import Path\n",
        "mod_path = Path('Models')\n",
        "mod_path.mkdir(parents = True, exist_ok = True)"
      ],
      "metadata": {
        "id": "j4BpLZuQq8Vx"
      },
      "execution_count": null,
      "outputs": []
    },
    {
      "cell_type": "code",
      "source": [
        "Model_Name = 'lin_trail.pth'\n",
        "Model_path = mod_path / Model_Name"
      ],
      "metadata": {
        "id": "g85H0tZRq8Yl"
      },
      "execution_count": null,
      "outputs": []
    },
    {
      "cell_type": "code",
      "source": [
        "torch.save(obj = model.state_dict(),\n",
        "           f = Model_path\n",
        "           )"
      ],
      "metadata": {
        "id": "XdiDl_0gq8bZ"
      },
      "execution_count": null,
      "outputs": []
    },
    {
      "cell_type": "code",
      "source": [
        "Model_0 = LinR()"
      ],
      "metadata": {
        "id": "i1ESAGWSq8eH"
      },
      "execution_count": null,
      "outputs": []
    },
    {
      "cell_type": "code",
      "source": [
        "Model_0.state_dict()"
      ],
      "metadata": {
        "id": "4XME__d0q8hJ",
        "colab": {
          "base_uri": "https://localhost:8080/"
        },
        "outputId": "97449469-cac0-4cb9-b7db-65bef3e186c0"
      },
      "execution_count": null,
      "outputs": [
        {
          "output_type": "execute_result",
          "data": {
            "text/plain": [
              "OrderedDict([('weight', tensor([0.2345])), ('bias', tensor([0.2303]))])"
            ]
          },
          "metadata": {},
          "execution_count": 27
        }
      ]
    },
    {
      "cell_type": "code",
      "source": [
        "Model_0.load_state_dict(torch.load(Model_path))    # Loading the state_dicts"
      ],
      "metadata": {
        "id": "m-XHsPhwq8jw",
        "colab": {
          "base_uri": "https://localhost:8080/"
        },
        "outputId": "1b63657b-0b29-481b-aa6a-d96c4837f5aa"
      },
      "execution_count": null,
      "outputs": [
        {
          "output_type": "execute_result",
          "data": {
            "text/plain": [
              "<All keys matched successfully>"
            ]
          },
          "metadata": {},
          "execution_count": 28
        }
      ]
    },
    {
      "cell_type": "code",
      "source": [
        "Model_0.state_dict()"
      ],
      "metadata": {
        "id": "Nb636UQNq8mz",
        "colab": {
          "base_uri": "https://localhost:8080/"
        },
        "outputId": "8270d602-34c5-42a7-8946-4b4b593a8647"
      },
      "execution_count": null,
      "outputs": [
        {
          "output_type": "execute_result",
          "data": {
            "text/plain": [
              "OrderedDict([('weight', tensor([0.6990])), ('bias', tensor([0.3093]))])"
            ]
          },
          "metadata": {},
          "execution_count": 29
        }
      ]
    },
    {
      "cell_type": "code",
      "source": [
        "class LineR(nn.Module):\n",
        "  def __init__(self):\n",
        "    super().__init__()\n",
        "    self.Linear_Layer = nn.Linear(in_features=1,\n",
        "                                  out_features=1)\n",
        "  def forward(self, x : torch.Tensor) -> torch.Tensor:\n",
        "    return self.Linear_Layer(x)"
      ],
      "metadata": {
        "id": "h06RHLt6q8pd"
      },
      "execution_count": null,
      "outputs": []
    },
    {
      "cell_type": "code",
      "source": [
        "class Lin2(nn.Module):\n",
        "  def __init__(self):\n",
        "    super().__init__()\n",
        "    # Use nn.Linear() for creating the model parameters / also called: linear transform, probing layer, fully connected layer, dense layer\n",
        "    self.linear_layer = nn.Linear(in_features=1,\n",
        "                                  out_features=1)\n",
        "\n",
        "  def forward(self, x: torch.Tensor) -> torch.Tensor:\n",
        "    return self.linear_layer(x)"
      ],
      "metadata": {
        "id": "gVO1v-itX8fS"
      },
      "execution_count": null,
      "outputs": []
    },
    {
      "cell_type": "code",
      "source": [
        "torch.manual_seed(42)\n",
        "model_1 = LineR()\n",
        "model_1.state_dict()"
      ],
      "metadata": {
        "colab": {
          "base_uri": "https://localhost:8080/"
        },
        "id": "PMIRMau5p1lM",
        "outputId": "375eb3c2-6893-4b2f-f912-981c4bb50590"
      },
      "execution_count": null,
      "outputs": [
        {
          "output_type": "execute_result",
          "data": {
            "text/plain": [
              "OrderedDict([('Linear_Layer.weight', tensor([[0.7645]])),\n",
              "             ('Linear_Layer.bias', tensor([0.8300]))])"
            ]
          },
          "metadata": {},
          "execution_count": 45
        }
      ]
    },
    {
      "cell_type": "code",
      "source": [
        "epochs  = 200"
      ],
      "metadata": {
        "id": "w9uXJn7Wp1n6"
      },
      "execution_count": null,
      "outputs": []
    },
    {
      "cell_type": "code",
      "source": [
        "loss = nn.L1Loss() # same as MAE\n",
        "\n",
        "# Setup our optimizer\n",
        "optimizer = torch.optim.SGD(params=model_1.parameters(),\n",
        "                            lr=0.01)"
      ],
      "metadata": {
        "id": "jFWVDprhYnjd"
      },
      "execution_count": null,
      "outputs": []
    },
    {
      "cell_type": "code",
      "source": [
        "for epoch in range(epochs):\n",
        "  model_1.train()\n",
        "\n",
        "  # 1. Forward pass\n",
        "  y_pred = model_1(x_train)\n",
        "\n",
        "  # 2. Calculate the loss\n",
        "  lass = loss(y_pred, y_train)\n",
        "\n",
        "  # 3. Optimizer zero grad\n",
        "  optimizer.zero_grad()\n",
        "\n",
        "  # 4. Perform backpropagation\n",
        "  lass.backward()\n",
        "\n",
        "  # 5. Optimizer step\n",
        "  optimizer.step()\n",
        "\n",
        "  ### Testing\n",
        "  model_1.eval()\n",
        "  with torch.inference_mode():\n",
        "    test_pred = model_1(x_test)\n",
        "\n",
        "    test_loss = loss(test_pred, y_test)\n",
        "\n",
        "  # Print out what's happening\n",
        "  if epoch % 10 == 0:\n",
        "    print(f\"Epoch: {epoch} | Loss: {loss} | Test loss: {test_loss}\")"
      ],
      "metadata": {
        "colab": {
          "base_uri": "https://localhost:8080/"
        },
        "id": "NkBwLeFHYI_2",
        "outputId": "dde74b96-8ae0-4707-8e56-7923e3df5517"
      },
      "execution_count": null,
      "outputs": [
        {
          "output_type": "stream",
          "name": "stdout",
          "text": [
            "Epoch: 0 | Loss: L1Loss() | Test loss: 0.013801807537674904\n",
            "Epoch: 10 | Loss: L1Loss() | Test loss: 0.013801807537674904\n",
            "Epoch: 20 | Loss: L1Loss() | Test loss: 0.013801807537674904\n",
            "Epoch: 30 | Loss: L1Loss() | Test loss: 0.013801807537674904\n",
            "Epoch: 40 | Loss: L1Loss() | Test loss: 0.013801807537674904\n",
            "Epoch: 50 | Loss: L1Loss() | Test loss: 0.013801807537674904\n",
            "Epoch: 60 | Loss: L1Loss() | Test loss: 0.013801807537674904\n",
            "Epoch: 70 | Loss: L1Loss() | Test loss: 0.013801807537674904\n",
            "Epoch: 80 | Loss: L1Loss() | Test loss: 0.013801807537674904\n",
            "Epoch: 90 | Loss: L1Loss() | Test loss: 0.013801807537674904\n",
            "Epoch: 100 | Loss: L1Loss() | Test loss: 0.013801807537674904\n",
            "Epoch: 110 | Loss: L1Loss() | Test loss: 0.013801807537674904\n",
            "Epoch: 120 | Loss: L1Loss() | Test loss: 0.013801807537674904\n",
            "Epoch: 130 | Loss: L1Loss() | Test loss: 0.013801807537674904\n",
            "Epoch: 140 | Loss: L1Loss() | Test loss: 0.013801807537674904\n",
            "Epoch: 150 | Loss: L1Loss() | Test loss: 0.013801807537674904\n",
            "Epoch: 160 | Loss: L1Loss() | Test loss: 0.013801807537674904\n",
            "Epoch: 170 | Loss: L1Loss() | Test loss: 0.013801807537674904\n",
            "Epoch: 180 | Loss: L1Loss() | Test loss: 0.013801807537674904\n",
            "Epoch: 190 | Loss: L1Loss() | Test loss: 0.013801807537674904\n"
          ]
        }
      ]
    },
    {
      "cell_type": "code",
      "source": [],
      "metadata": {
        "id": "VX-sPRuxp1w1"
      },
      "execution_count": null,
      "outputs": []
    },
    {
      "cell_type": "code",
      "source": [],
      "metadata": {
        "id": "L9LVg7HBp1zr"
      },
      "execution_count": null,
      "outputs": []
    },
    {
      "cell_type": "code",
      "source": [],
      "metadata": {
        "id": "wMszH45jp12h"
      },
      "execution_count": null,
      "outputs": []
    },
    {
      "cell_type": "code",
      "source": [],
      "metadata": {
        "id": "_6M9_Aump15N"
      },
      "execution_count": null,
      "outputs": []
    },
    {
      "cell_type": "code",
      "source": [],
      "metadata": {
        "id": "IlVPi3IOp171"
      },
      "execution_count": null,
      "outputs": []
    },
    {
      "cell_type": "code",
      "source": [],
      "metadata": {
        "id": "81PlDq5zp1-Z"
      },
      "execution_count": null,
      "outputs": []
    },
    {
      "cell_type": "code",
      "source": [],
      "metadata": {
        "id": "OpwqEPhUp2Be"
      },
      "execution_count": null,
      "outputs": []
    },
    {
      "cell_type": "code",
      "source": [],
      "metadata": {
        "id": "9nd5fK8Jp2EL"
      },
      "execution_count": null,
      "outputs": []
    },
    {
      "cell_type": "code",
      "source": [],
      "metadata": {
        "id": "WcWFJsrJq8s0"
      },
      "execution_count": null,
      "outputs": []
    },
    {
      "cell_type": "code",
      "source": [
        "!pip install gensim\n"
      ],
      "metadata": {
        "id": "Ans5XeaMYtEh",
        "colab": {
          "base_uri": "https://localhost:8080/"
        },
        "outputId": "84905a9b-03f8-409a-8fbd-933150ff9f07"
      },
      "execution_count": null,
      "outputs": [
        {
          "output_type": "stream",
          "name": "stdout",
          "text": [
            "Requirement already satisfied: gensim in /usr/local/lib/python3.10/dist-packages (4.3.1)\n",
            "Requirement already satisfied: numpy>=1.18.5 in /usr/local/lib/python3.10/dist-packages (from gensim) (1.22.4)\n",
            "Requirement already satisfied: scipy>=1.7.0 in /usr/local/lib/python3.10/dist-packages (from gensim) (1.10.1)\n",
            "Requirement already satisfied: smart-open>=1.8.1 in /usr/local/lib/python3.10/dist-packages (from gensim) (6.3.0)\n"
          ]
        }
      ]
    },
    {
      "cell_type": "code",
      "source": [
        "from sklearn.feature_extraction.text import CountVectorizer\n",
        "\n",
        "# Step 1: Define the corpus (a list of text documents)\n",
        "corpus = [\n",
        "    \"This is the first document.\",\n",
        "    \"This document is the second document.\",\n",
        "    \"And this is the third one.\",\n",
        "    \"Is this the first document?\",\n",
        "]\n",
        "\n",
        "# Step 2: Create a CountVectorizer object\n",
        "vectorizer = CountVectorizer()\n",
        "\n",
        "# Step 3: Fit the vectorizer on the corpus and transform the text into a BoW representation\n",
        "bow_representation = vectorizer.fit_transform(corpus)\n",
        "\n",
        "# Step 4: Get the feature names (unique words in the corpus)\n",
        "feature_names = vectorizer.get_feature_names_out()\n",
        "\n",
        "# Step 5: Print the BoW representation and feature names\n",
        "print(\"BoW representation:\")\n",
        "print(bow_representation.toarray())\n",
        "print(\"Feature names:\")\n",
        "print(feature_names)\n"
      ],
      "metadata": {
        "colab": {
          "base_uri": "https://localhost:8080/"
        },
        "id": "BrrF5wUtwkkK",
        "outputId": "ca904599-6dac-447c-bb22-62022836fed6"
      },
      "execution_count": null,
      "outputs": [
        {
          "output_type": "stream",
          "name": "stdout",
          "text": [
            "BoW representation:\n",
            "[[0 1 1 1 0 0 1 0 1]\n",
            " [0 2 0 1 0 1 1 0 1]\n",
            " [1 0 0 1 1 0 1 1 1]\n",
            " [0 1 1 1 0 0 1 0 1]]\n",
            "Feature names:\n",
            "['and' 'document' 'first' 'is' 'one' 'second' 'the' 'third' 'this']\n"
          ]
        }
      ]
    },
    {
      "cell_type": "code",
      "source": [
        "from sklearn.feature_extraction.text import TfidfVectorizer\n",
        "\n",
        "# Step 1: Define the corpus (a list of text documents)\n",
        "corpus = [\n",
        "    \"This is the first document.\",\n",
        "    \"This document is the second document.\",\n",
        "    \"And this is the third one.\",\n",
        "    \"Is this the first document?\",\n",
        "]\n",
        "\n",
        "# Step 2: Create a TfidfVectorizer object\n",
        "vectorizer = TfidfVectorizer()\n",
        "\n",
        "# Step 3: Fit the vectorizer on the corpus and transform the text into a TF-IDF representation\n",
        "tfidf_representation = vectorizer.fit_transform(corpus)\n",
        "\n",
        "# Step 4: Get the feature names (unique words in the corpus)\n",
        "feature_names = vectorizer.get_feature_names_out()\n",
        "\n",
        "# Step 5: Print the TF-IDF representation and feature names\n",
        "print(\"TF-IDF representation:\")\n",
        "print(tfidf_representation.toarray())\n",
        "print(\"Feature names:\")\n",
        "print(feature_names)\n"
      ],
      "metadata": {
        "colab": {
          "base_uri": "https://localhost:8080/"
        },
        "id": "LGtGc1Lx03fr",
        "outputId": "8c098d41-ca23-45cd-9a7f-d38953114415"
      },
      "execution_count": null,
      "outputs": [
        {
          "output_type": "stream",
          "name": "stdout",
          "text": [
            "TF-IDF representation:\n",
            "[[0.         0.46979139 0.58028582 0.38408524 0.         0.\n",
            "  0.38408524 0.         0.38408524]\n",
            " [0.         0.6876236  0.         0.28108867 0.         0.53864762\n",
            "  0.28108867 0.         0.28108867]\n",
            " [0.51184851 0.         0.         0.26710379 0.51184851 0.\n",
            "  0.26710379 0.51184851 0.26710379]\n",
            " [0.         0.46979139 0.58028582 0.38408524 0.         0.\n",
            "  0.38408524 0.         0.38408524]]\n",
            "Feature names:\n",
            "['and' 'document' 'first' 'is' 'one' 'second' 'the' 'third' 'this']\n"
          ]
        }
      ]
    },
    {
      "cell_type": "code",
      "source": [
        "import numpy as np\n",
        "import tensorflow as tf\n",
        "from tensorflow.keras.models import Sequential\n",
        "from tensorflow.keras.layers import Embedding, LSTM, Dense, Dropout\n",
        "from tensorflow.keras.preprocessing.text import Tokenizer\n",
        "from tensorflow.keras.preprocessing.sequence import pad_sequences\n",
        "\n",
        "# Step 1: Define the text data and corresponding labels\n",
        "texts = [\n",
        "    \"This is a positive review.\",\n",
        "    \"I loved this movie!\",\n",
        "    \"The plot was intriguing.\",\n",
        "    \"Not a fan of this book.\",\n",
        "    \"The acting was terrible.\",\n",
        "    \"Highly recommended!\",\n",
        "]\n",
        "labels = [1, 1, 1, 0, 0, 1]  # 1: Positive, 0: Negative\n",
        "\n",
        "# Step 2: Tokenize the text and convert it to sequences of integers\n",
        "tokenizer = Tokenizer()\n",
        "tokenizer.fit_on_texts(texts)\n",
        "sequences = tokenizer.texts_to_sequences(texts)\n",
        "\n",
        "# Step 3: Pad the sequences to make them of equal length\n",
        "max_sequence_length = max(len(seq) for seq in sequences)\n",
        "padded_sequences = pad_sequences(sequences, maxlen=max_sequence_length)\n",
        "\n",
        "# Step 4: Create the LSTM model\n",
        "model = Sequential()\n",
        "model.add(Embedding(input_dim=len(tokenizer.word_index) + 1, output_dim=32, input_length=max_sequence_length))\n",
        "model.add(LSTM(64, dropout=0.2, recurrent_dropout=0.2))\n",
        "model.add(Dense(1, activation='sigmoid'))\n",
        "\n",
        "# Step 5: Compile the model\n",
        "model.compile(loss='binary_crossentropy', optimizer='adam', metrics=['accuracy'])\n",
        "\n",
        "# Step 6: Train the model\n",
        "model.fit(padded_sequences, np.array(labels), epochs=52, batch_size=2)\n",
        "\n",
        "# Step 7: Make predictions on new data\n",
        "new_texts = [\n",
        "    \"This movie is fantastic!\",\n",
        "    \"The book was disappointing.\",\n",
        "    \"I highly recommend it!\",\n",
        "]\n",
        "new_sequences = tokenizer.texts_to_sequences(new_texts)\n",
        "new_padded_sequences = pad_sequences(new_sequences, maxlen=max_sequence_length)\n",
        "predictions = model.predict(new_padded_sequences)\n",
        "\n",
        "# Step 8: Print the predictions\n",
        "for i, text in enumerate(new_texts):\n",
        "    sentiment = \"Positive\" if predictions[i][0] > 0.5 else \"Negative\"\n",
        "    print(f\"'{text}' has a {sentiment} sentiment.\")\n"
      ],
      "metadata": {
        "id": "o7RtgtpD1uUc"
      },
      "execution_count": null,
      "outputs": []
    },
    {
      "cell_type": "code",
      "source": [
        "import gensim\n",
        "from gensim.models import Word2Vec\n",
        "from gensim.test.utils import common_texts\n",
        "\n",
        "# Step 1: Prepare the corpus (a list of sentences or words)\n",
        "# In this example, we use Gensim's common_texts as the corpus for demonstration.\n",
        "corpus = common_texts\n",
        "\n",
        "# Step 2: Create a Word2Vec model with the Skip-gram architecture\n",
        "model = Word2Vec(sentences=corpus, vector_size=100, window=5, min_count=1, sg=1)\n",
        "\n",
        "# Step 3: Get the word vector for a specific word\n",
        "word_vector = model.wv['computer']\n",
        "print(\"Word vector for 'computer':\")\n",
        "print(word_vector)\n",
        "\n",
        "# Step 4: Find similar words to a given word\n",
        "similar_words = model.wv.most_similar('trees', topn=5)\n",
        "print(\"Similar words to 'Trees':\")\n",
        "print(similar_words)\n"
      ],
      "metadata": {
        "colab": {
          "base_uri": "https://localhost:8080/"
        },
        "id": "ft8_e-8z3dXD",
        "outputId": "5d0a0f80-01d5-40d1-a6d7-f2f1a24682e6"
      },
      "execution_count": null,
      "outputs": [
        {
          "output_type": "stream",
          "name": "stdout",
          "text": [
            "Word vector for 'computer':\n",
            "[-0.00515774 -0.00667028 -0.0077791   0.00831315 -0.00198292 -0.00685696\n",
            " -0.0041556   0.00514562 -0.00286997 -0.00375075  0.0016219  -0.0027771\n",
            " -0.00158482  0.0010748  -0.00297881  0.00852176  0.00391207 -0.00996176\n",
            "  0.00626142 -0.00675622  0.00076966  0.00440552 -0.00510486 -0.00211128\n",
            "  0.00809783 -0.00424503 -0.00763848  0.00926061 -0.00215612 -0.00472081\n",
            "  0.00857329  0.00428459  0.0043261   0.00928722 -0.00845554  0.00525685\n",
            "  0.00203994  0.0041895   0.00169839  0.00446543  0.0044876   0.0061063\n",
            " -0.00320303 -0.00457706 -0.00042664  0.00253447 -0.00326412  0.00605948\n",
            "  0.00415534  0.00776685  0.00257002  0.00811905 -0.00138761  0.00808028\n",
            "  0.0037181  -0.00804967 -0.00393476 -0.0024726   0.00489447 -0.00087241\n",
            " -0.00283173  0.00783599  0.00932561 -0.0016154  -0.00516075 -0.00470313\n",
            " -0.00484746 -0.00960562  0.00137242 -0.00422615  0.00252744  0.00561612\n",
            " -0.00406709 -0.00959937  0.00154715 -0.00670207  0.0024959  -0.00378173\n",
            "  0.00708048  0.00064041  0.00356198 -0.00273993 -0.00171105  0.00765502\n",
            "  0.00140809 -0.00585215 -0.00783678  0.00123305  0.00645651  0.00555797\n",
            " -0.00897966  0.00859466  0.00404816  0.00747178  0.00974917 -0.0072917\n",
            " -0.00904259  0.0058377   0.00939395  0.00350795]\n",
            "Similar words to 'Trees':\n",
            "[('survey', 0.1991206258535385), ('human', 0.17272792756557465), ('minors', 0.17018885910511017), ('time', 0.145950585603714), ('eps', 0.06408977508544922)]\n"
          ]
        }
      ]
    },
    {
      "cell_type": "code",
      "source": [],
      "metadata": {
        "id": "zujNMue16H4-"
      },
      "execution_count": null,
      "outputs": []
    }
  ]
}